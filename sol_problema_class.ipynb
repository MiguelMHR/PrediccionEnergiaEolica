{
 "cells": [
  {
   "cell_type": "code",
   "execution_count": 4,
   "metadata": {},
   "outputs": [
    {
     "name": "stdout",
     "output_type": "stream",
     "text": [
      "Accuracy: 0.7779799818016379\n",
      "              precision    recall  f1-score   support\n",
      "\n",
      "        alta       0.63      0.33      0.44       284\n",
      "        baja       0.80      0.93      0.86       815\n",
      "\n",
      "    accuracy                           0.78      1099\n",
      "   macro avg       0.72      0.63      0.65      1099\n",
      "weighted avg       0.76      0.78      0.75      1099\n",
      "\n"
     ]
    }
   ],
   "source": [
    "import pandas as pd\n",
    "import pandas as pd\n",
    "\n",
    "from sklearn import metrics\n",
    "\n",
    "from sklearn.svm import SVC\n",
    "\n",
    "\n",
    "\n",
    "\n",
    "# Load the competition data\n",
    "wind_ava = pd.read_csv(\"./data/wind_ava.csv\")\n",
    "\n",
    "\n",
    "third_quantile = wind_ava['energy'].quantile(0.75)\n",
    "\n",
    "wind_ava['target_class'] = 'baja'\n",
    "wind_ava.loc[wind_ava['energy'] > third_quantile, 'target_class'] = 'alta'\n",
    "\n",
    "# Dividir el DataFrame en características (X) y variable objetivo (y)\n",
    "X = wind_ava[wind_ava.columns.difference(['target_class','datetime','predicted_energy'])]\n",
    "Y = wind_ava['target_class']\n",
    "\n",
    "# Dividir los datos en conjunto de entrenamiento y prueba\n",
    "X_train = X.loc[wind_ava.datetime < '2008-01-01']\n",
    "X_test = X.loc[wind_ava.datetime >= '2008-01-01']\n",
    "Y_train = Y.loc[wind_ava.datetime < '2008-01-01']\n",
    "Y_test = Y.loc[wind_ava.datetime >= '2008-01-01']\n",
    "\n",
    "# Entrenar un modelo de clasificación (por ejemplo, SVM)\n",
    "clf = SVC()\n",
    "clf.fit(X_train, Y_train)\n",
    "\n",
    "# Realizar predicciones en el conjunto de prueba\n",
    "y_pred = clf.predict(X_test)\n",
    "\n",
    "# Calcular métricas de evaluación\n",
    "print(\"Accuracy:\", metrics.accuracy_score(Y_test, y_pred))\n",
    "print(metrics.classification_report(Y_test, y_pred))"
   ]
  }
 ],
 "metadata": {
  "kernelspec": {
   "display_name": "Python 3",
   "language": "python",
   "name": "python3"
  },
  "language_info": {
   "codemirror_mode": {
    "name": "ipython",
    "version": 3
   },
   "file_extension": ".py",
   "mimetype": "text/x-python",
   "name": "python",
   "nbconvert_exporter": "python",
   "pygments_lexer": "ipython3",
   "version": "3.6.8"
  }
 },
 "nbformat": 4,
 "nbformat_minor": 2
}
