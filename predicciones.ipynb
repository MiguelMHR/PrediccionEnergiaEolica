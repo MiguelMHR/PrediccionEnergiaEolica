{
 "cells": [
  {
   "cell_type": "code",
   "execution_count": 4,
   "metadata": {},
   "outputs": [
    {
     "name": "stdout",
     "output_type": "stream",
     "text": [
      "     p54.162.13  p55.162.13   cape.13    p59.162.13  lai_lv.13  lai_hv.13  \\\n",
      "0  2.380345e+06   10.537942  10.38251  2.220341e+06   2.346936   2.433955   \n",
      "\n",
      "    u10n.13   v10n.13         sp.13     stl1.13  ...      t2m.13     stl2.13  \\\n",
      "0  1.258152  4.389059  96056.601316  278.713081  ...  277.372035  280.494544   \n",
      "\n",
      "      stl3.13   iews.13   inss.13     stl4.13    fsr.13   flsr.13   u100.13  \\\n",
      "0  282.003767  0.223763  0.469945  285.865293  0.426499 -5.692383  3.028044   \n",
      "\n",
      "    v100.13  \n",
      "0  6.801977  \n",
      "\n",
      "[1 rows x 22 columns]\n"
     ]
    }
   ],
   "source": [
    "import pandas as pd\n",
    "import joblib\n",
    "\n",
    "# Load the final model from .pkl file\n",
    "model = joblib.load('./modelo_final.pkl')\n",
    "\n",
    "# Load the competition data\n",
    "comp_df = pd.read_csv(\"./data/wind_comp.csv\")\n",
    "\n",
    "# Clean the competition dataframe\n",
    "columnas_a_mantener = [columna for columna in comp_df.columns if columna.endswith('.13') or columna == 'energy']\n",
    "comp_df = comp_df[columnas_a_mantener]\n",
    "print(comp_df.head(1))\n",
    "\n",
    "# Predict the competition data\n",
    "pred = model.predict(comp_df)\n",
    "\n",
    "# Save the predictions to a .csv file\n",
    "pd.DataFrame(pred).to_csv(\"./predicciones.csv\", index=False)"
   ]
  }
 ],
 "metadata": {
  "kernelspec": {
   "display_name": "Python 3",
   "language": "python",
   "name": "python3"
  },
  "language_info": {
   "codemirror_mode": {
    "name": "ipython",
    "version": 3
   },
   "file_extension": ".py",
   "mimetype": "text/x-python",
   "name": "python",
   "nbconvert_exporter": "python",
   "pygments_lexer": "ipython3",
   "version": "3.11.4"
  }
 },
 "nbformat": 4,
 "nbformat_minor": 2
}
