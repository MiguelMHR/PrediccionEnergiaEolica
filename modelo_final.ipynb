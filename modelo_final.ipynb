{
 "cells": [
  {
   "cell_type": "markdown",
   "metadata": {},
   "source": [
    "Importamos las librerías que vamos a usar"
   ]
  },
  {
   "cell_type": "code",
   "execution_count": 26,
   "metadata": {},
   "outputs": [],
   "source": [
    "import pandas as pd\n",
    "from joblib import load\n"
   ]
  },
  {
   "cell_type": "markdown",
   "metadata": {},
   "source": [
    "Importamos el modelo y los datos a predecir"
   ]
  },
  {
   "cell_type": "code",
   "execution_count": 27,
   "metadata": {},
   "outputs": [],
   "source": [
    "wind_comp = pd.read_csv('./data/wind_comp.csv')\n",
    "\n",
    "modelo = load(\"./modelo_final.plk\")\n"
   ]
  },
  {
   "cell_type": "markdown",
   "metadata": {},
   "source": [
    "Preparamos los datos para la predicción"
   ]
  },
  {
   "cell_type": "code",
   "execution_count": 28,
   "metadata": {},
   "outputs": [],
   "source": [
    "columnas_a_mantener = [columna for columna in wind_comp.columns if columna.endswith('.13') or columna == 'datetime']\n",
    "wind_comp = wind_comp[columnas_a_mantener]\n",
    "X = wind_comp[columnas_a_mantener[1:]]"
   ]
  },
  {
   "cell_type": "markdown",
   "metadata": {},
   "source": [
    "Realizamos la predicción y la introducimos en una nueva tabla de predicciones"
   ]
  },
  {
   "cell_type": "code",
   "execution_count": 35,
   "metadata": {},
   "outputs": [
    {
     "name": "stdout",
     "output_type": "stream",
     "text": [
      "1189\n"
     ]
    },
    {
     "data": {
      "text/html": [
       "<div>\n",
       "<style scoped>\n",
       "    .dataframe tbody tr th:only-of-type {\n",
       "        vertical-align: middle;\n",
       "    }\n",
       "\n",
       "    .dataframe tbody tr th {\n",
       "        vertical-align: top;\n",
       "    }\n",
       "\n",
       "    .dataframe thead th {\n",
       "        text-align: right;\n",
       "    }\n",
       "</style>\n",
       "<table border=\"1\" class=\"dataframe\">\n",
       "  <thead>\n",
       "    <tr style=\"text-align: right;\">\n",
       "      <th></th>\n",
       "      <th>datetime</th>\n",
       "      <th>Prediccion</th>\n",
       "    </tr>\n",
       "  </thead>\n",
       "  <tbody>\n",
       "    <tr>\n",
       "      <th>0</th>\n",
       "      <td>2010-01-01 00:00:00</td>\n",
       "      <td>777.007125</td>\n",
       "    </tr>\n",
       "    <tr>\n",
       "      <th>1</th>\n",
       "      <td>2010-01-01 06:00:00</td>\n",
       "      <td>174.347749</td>\n",
       "    </tr>\n",
       "    <tr>\n",
       "      <th>2</th>\n",
       "      <td>2010-01-01 12:00:00</td>\n",
       "      <td>1276.744001</td>\n",
       "    </tr>\n",
       "    <tr>\n",
       "      <th>3</th>\n",
       "      <td>2010-01-01 18:00:00</td>\n",
       "      <td>565.235500</td>\n",
       "    </tr>\n",
       "    <tr>\n",
       "      <th>4</th>\n",
       "      <td>2010-01-02 00:00:00</td>\n",
       "      <td>327.286749</td>\n",
       "    </tr>\n",
       "    <tr>\n",
       "      <th>...</th>\n",
       "      <td>...</td>\n",
       "      <td>...</td>\n",
       "    </tr>\n",
       "    <tr>\n",
       "      <th>1184</th>\n",
       "      <td>2010-12-30 18:00:00</td>\n",
       "      <td>507.200841</td>\n",
       "    </tr>\n",
       "    <tr>\n",
       "      <th>1185</th>\n",
       "      <td>2010-12-31 00:00:00</td>\n",
       "      <td>467.633735</td>\n",
       "    </tr>\n",
       "    <tr>\n",
       "      <th>1186</th>\n",
       "      <td>2010-12-31 06:00:00</td>\n",
       "      <td>358.098723</td>\n",
       "    </tr>\n",
       "    <tr>\n",
       "      <th>1187</th>\n",
       "      <td>2010-12-31 12:00:00</td>\n",
       "      <td>309.900499</td>\n",
       "    </tr>\n",
       "    <tr>\n",
       "      <th>1188</th>\n",
       "      <td>2010-12-31 18:00:00</td>\n",
       "      <td>86.842992</td>\n",
       "    </tr>\n",
       "  </tbody>\n",
       "</table>\n",
       "<p>1189 rows × 2 columns</p>\n",
       "</div>"
      ],
      "text/plain": [
       "                 datetime   Prediccion\n",
       "0     2010-01-01 00:00:00   777.007125\n",
       "1     2010-01-01 06:00:00   174.347749\n",
       "2     2010-01-01 12:00:00  1276.744001\n",
       "3     2010-01-01 18:00:00   565.235500\n",
       "4     2010-01-02 00:00:00   327.286749\n",
       "...                   ...          ...\n",
       "1184  2010-12-30 18:00:00   507.200841\n",
       "1185  2010-12-31 00:00:00   467.633735\n",
       "1186  2010-12-31 06:00:00   358.098723\n",
       "1187  2010-12-31 12:00:00   309.900499\n",
       "1188  2010-12-31 18:00:00    86.842992\n",
       "\n",
       "[1189 rows x 2 columns]"
      ]
     },
     "execution_count": 35,
     "metadata": {},
     "output_type": "execute_result"
    }
   ],
   "source": [
    "prediccion = modelo.predict(X)\n",
    "print(len(prediccion))\n",
    "dates = wind_comp.datetime\n",
    "predicciones = pd.DataFrame({\"datetime\": dates, \"Prediccion\": prediccion}, columns=[\"datetime\", \"Prediccion\"])\n",
    "predicciones.to_csv(\"./predicciones.csv\")"
   ]
  }
 ],
 "metadata": {
  "kernelspec": {
   "display_name": "Python 3",
   "language": "python",
   "name": "python3"
  },
  "language_info": {
   "codemirror_mode": {
    "name": "ipython",
    "version": 3
   },
   "file_extension": ".py",
   "mimetype": "text/x-python",
   "name": "python",
   "nbconvert_exporter": "python",
   "pygments_lexer": "ipython3",
   "version": "3.6.8"
  }
 },
 "nbformat": 4,
 "nbformat_minor": 2
}
