{
 "cells": [
  {
   "cell_type": "markdown",
   "metadata": {},
   "source": [
    "### Práctica 1 - Predicción Energía Eólica\n",
    "Autores:\n",
    "- Miguel Domínguez Gómez - 100451258\n",
    "- Eduardo Fernández Vega - 100472251  \n",
    "\n",
    "Enlace al repositorio:\n",
    "https://github.com/MiguelMHR/Practica1-PrediccionEnergia\n"
   ]
  },
  {
   "cell_type": "markdown",
   "metadata": {},
   "source": [
    "### 0. Tabla de contenidos:\n",
    "1. [Requisitos](#1.-Requisitos)\n",
    "2. [Lectura](#2.-Lectura)\n",
    "3. [EDA](#3.-EDA)\n",
    "4. [Evaluación inner y outer](#4.-Evaluación-inner-y-outer) \n",
    "5. [Elección del mejor escalador](#5.-Elección-del-mejor-escalador)"
   ]
  },
  {
   "cell_type": "markdown",
   "metadata": {},
   "source": [
    "### 1. Requisitos"
   ]
  },
  {
   "cell_type": "markdown",
   "metadata": {},
   "source": [
    "Importamos las librerías necesarias para el proyecto"
   ]
  },
  {
   "cell_type": "code",
   "execution_count": 28,
   "metadata": {},
   "outputs": [],
   "source": [
    "# Importando las librerías necesarias\n",
    "import pandas as pd\n",
    "import numpy as np\n",
    "import matplotlib.pyplot as plt\n",
    "from sklearn.model_selection import RandomizedSearchCV, KFold, TimeSeriesSplit, cross_val_score, GridSearchCV\n",
    "from sklearn.tree import DecisionTreeRegressor\n",
    "from sklearn import metrics\n",
    "from sklearn.neighbors import KNeighborsRegressor\n",
    "from sklearn.preprocessing import MinMaxScaler, StandardScaler, RobustScaler\n",
    "from sklearn.pipeline import Pipeline\n",
    "from joblib import dump\n"
   ]
  },
  {
   "cell_type": "markdown",
   "metadata": {},
   "source": [
    "### 2. Lectura"
   ]
  },
  {
   "cell_type": "markdown",
   "metadata": {},
   "source": [
    "Procedemos a leer el dataset usando la librería Pandas"
   ]
  },
  {
   "cell_type": "code",
   "execution_count": 29,
   "metadata": {},
   "outputs": [],
   "source": [
    "# Leemos el dataset\n",
    "wind_ava = pd.read_csv('./data/wind_ava.csv')"
   ]
  },
  {
   "cell_type": "markdown",
   "metadata": {},
   "source": [
    "### 3. EDA"
   ]
  },
  {
   "cell_type": "markdown",
   "metadata": {},
   "source": [
    "En esta sección se hará un análisis exploratorio de datos siguiento las cuestiones expuestas en el enunciado de la práctica"
   ]
  },
  {
   "cell_type": "markdown",
   "metadata": {},
   "source": [
    "#### 3.0 Preparación previa del dataset\n",
    "Como se expone en el punto **importante** de la práctica, debemos, antes de realizar el EDA simplificado, una limpieza de las columnas que no sean importantes. Las únicas que son relevantes son aquellas que tienen que ver con Sotavento:\n",
    "- **datetime**\n",
    "- **energy**\n",
    "- solo aquellas que tengan un \".13\" al final (**p54.162.13, p55.162.13, cape.13, etc**)"
   ]
  },
  {
   "cell_type": "code",
   "execution_count": 30,
   "metadata": {},
   "outputs": [
    {
     "name": "stdout",
     "output_type": "stream",
     "text": [
      "              datetime  energy    p54.162.13  p55.162.13    cape.13  \\\n",
      "0  2005-01-02 18:00:00  402.71  2.510824e+06    9.186295  13.527577   \n",
      "\n",
      "     p59.162.13  lai_lv.13  lai_hv.13   u10n.13   v10n.13  ...      t2m.13  \\\n",
      "0  1.386937e+06   2.344111   2.432983 -0.757587 -1.922799  ...  280.473098   \n",
      "\n",
      "      stl2.13     stl3.13   iews.13  inss.13     stl4.13    fsr.13   flsr.13  \\\n",
      "0  281.042026  281.462478 -0.057958 -0.13865  284.684755  0.404731 -5.927092   \n",
      "\n",
      "    u100.13   v100.13  \n",
      "0 -1.780562 -4.443617  \n",
      "\n",
      "[1 rows x 24 columns]\n"
     ]
    }
   ],
   "source": [
    "# Para quedarme solo con las columnas que terminan por \".13\" o que sean \"energy\" o \"datetime\"\n",
    "columnas_a_mantener = [columna for columna in wind_ava.columns if columna.endswith('.13') or columna == 'energy' or columna == 'datetime']\n",
    "wind_ava = wind_ava[columnas_a_mantener]\n",
    "print(wind_ava.head(1))\n"
   ]
  },
  {
   "cell_type": "markdown",
   "metadata": {},
   "source": [
    "#### 3.1 Descripción general del dataset\n",
    "Para poder conocer ciertas características relevantes del dataset, como el número de instancias (filas) y característas (columnas) procederemos a usar diferentes funciones de Pandas con el dataset transformado"
   ]
  },
  {
   "cell_type": "code",
   "execution_count": 31,
   "metadata": {},
   "outputs": [
    {
     "name": "stdout",
     "output_type": "stream",
     "text": [
      "            energy    p54.162.13   p55.162.13      cape.13    p59.162.13  \\\n",
      "count  4748.000000  4.748000e+03  4748.000000  4748.000000  4.748000e+03   \n",
      "mean    693.126247  2.489477e+06    16.008810    31.166541  1.706692e+06   \n",
      "std     665.531609  4.482599e+04     6.552216   121.758977  1.466953e+06   \n",
      "min       0.010000  2.358748e+06     1.650268     0.000000  5.610341e+04   \n",
      "25%     144.170000  2.458543e+06    11.203264     0.000000  6.563209e+05   \n",
      "50%     465.305000  2.490478e+06    15.543441     1.004148  1.239176e+06   \n",
      "75%    1089.375000  2.525134e+06    20.214077    14.143328  2.296548e+06   \n",
      "max    2792.550000  2.580387e+06    39.230807  2311.662152  1.110694e+07   \n",
      "\n",
      "         lai_lv.13    lai_hv.13      u10n.13      v10n.13         sp.13  ...  \\\n",
      "count  4748.000000  4748.000000  4748.000000  4748.000000   4748.000000  ...   \n",
      "mean      2.815222     2.576284     0.386215     0.120528  97820.301287  ...   \n",
      "std       0.397377     0.116434     3.100583     3.016766    713.689654  ...   \n",
      "min       2.323973     2.425866    -8.619823    -8.867441  93770.364813  ...   \n",
      "25%       2.425944     2.461630    -1.950008    -2.050920  97459.369264  ...   \n",
      "50%       2.758857     2.560520     0.048820    -0.191853  97861.147677  ...   \n",
      "75%       3.205385     2.688526     2.641779     2.016289  98251.478418  ...   \n",
      "max       3.450745     2.762992    12.974802    11.699814  99917.733093  ...   \n",
      "\n",
      "            t2m.13      stl2.13      stl3.13      iews.13      inss.13  \\\n",
      "count  4748.000000  4748.000000  4748.000000  4748.000000  4748.000000   \n",
      "mean    285.689253   286.663838   286.665988     0.074229     0.049971   \n",
      "std       6.163483     5.547947     4.582827     0.367013     0.379014   \n",
      "min     268.970603   275.461648   278.389271    -1.714897    -1.438829   \n",
      "25%     281.458939   282.287394   282.689506    -0.126880    -0.148495   \n",
      "50%     285.395453   286.191880   286.204914     0.010551    -0.003569   \n",
      "75%     289.740438   291.345311   290.989045     0.232378     0.172325   \n",
      "max     305.000640   299.556292   295.639998     2.842552     2.366522   \n",
      "\n",
      "           stl4.13       fsr.13      flsr.13      u100.13      v100.13  \n",
      "count  4748.000000  4748.000000  4748.000000  4748.000000  4748.000000  \n",
      "mean    286.668152     0.413677    -5.908467     0.447175     0.328204  \n",
      "std       3.552873     0.007602     0.094359     4.841730     4.667552  \n",
      "min     280.875389     0.364805    -6.130465   -11.879053   -13.043453  \n",
      "25%     283.405549     0.410027    -5.977599    -3.836853    -3.256194  \n",
      "50%     286.591659     0.410917    -5.947220     0.282399    -0.389416  \n",
      "75%     290.024705     0.417070    -5.858848     4.187953     3.614395  \n",
      "max     292.808658     0.428914    -5.618172    18.964137    16.913033  \n",
      "\n",
      "[8 rows x 23 columns]\n",
      "\n",
      "\n",
      "Número de filas:  4748\n",
      "Número de columnas:  24\n",
      "\n",
      "\n",
      "<class 'pandas.core.frame.DataFrame'>\n",
      "RangeIndex: 4748 entries, 0 to 4747\n",
      "Data columns (total 24 columns):\n",
      " #   Column      Non-Null Count  Dtype  \n",
      "---  ------      --------------  -----  \n",
      " 0   datetime    4748 non-null   object \n",
      " 1   energy      4748 non-null   float64\n",
      " 2   p54.162.13  4748 non-null   float64\n",
      " 3   p55.162.13  4748 non-null   float64\n",
      " 4   cape.13     4748 non-null   float64\n",
      " 5   p59.162.13  4748 non-null   float64\n",
      " 6   lai_lv.13   4748 non-null   float64\n",
      " 7   lai_hv.13   4748 non-null   float64\n",
      " 8   u10n.13     4748 non-null   float64\n",
      " 9   v10n.13     4748 non-null   float64\n",
      " 10  sp.13       4748 non-null   float64\n",
      " 11  stl1.13     4748 non-null   float64\n",
      " 12  u10.13      4748 non-null   float64\n",
      " 13  v10.13      4748 non-null   float64\n",
      " 14  t2m.13      4748 non-null   float64\n",
      " 15  stl2.13     4748 non-null   float64\n",
      " 16  stl3.13     4748 non-null   float64\n",
      " 17  iews.13     4748 non-null   float64\n",
      " 18  inss.13     4748 non-null   float64\n",
      " 19  stl4.13     4748 non-null   float64\n",
      " 20  fsr.13      4748 non-null   float64\n",
      " 21  flsr.13     4748 non-null   float64\n",
      " 22  u100.13     4748 non-null   float64\n",
      " 23  v100.13     4748 non-null   float64\n",
      "dtypes: float64(23), object(1)\n",
      "memory usage: 890.4+ KB\n",
      "None\n"
     ]
    }
   ],
   "source": [
    "# Descripción de parámetros generales -> count, mean, std, min, 25%, 50%, 75%, max\n",
    "print(wind_ava.describe())\n",
    "\n",
    "# Número de filas y columnas del dataset\n",
    "print(\"\\n\")\n",
    "print(\"Número de filas: \", wind_ava.shape[0])\n",
    "print(\"Número de columnas: \", wind_ava.shape[1])\n",
    "print(\"\\n\")\n",
    "\n",
    "# Para saber el tipo de variable de cada columna\n",
    "print(wind_ava.info())"
   ]
  },
  {
   "cell_type": "markdown",
   "metadata": {},
   "source": [
    "Como se puede apreciar, no existen valores nulos ya que el número de filas (4748) coincide con la cuenta de los valores no-nulos de cada columna"
   ]
  },
  {
   "cell_type": "markdown",
   "metadata": {},
   "source": [
    "#### 3.2 Valores faltantes"
   ]
  },
  {
   "cell_type": "markdown",
   "metadata": {},
   "source": [
    "Como ya se ha visto en el anterior apartado, no existen valores nulos como tal. Para asegurarnos, haremos lo siguiente"
   ]
  },
  {
   "cell_type": "code",
   "execution_count": 32,
   "metadata": {},
   "outputs": [
    {
     "name": "stdout",
     "output_type": "stream",
     "text": [
      "datetime      0\n",
      "energy        0\n",
      "p54.162.13    0\n",
      "p55.162.13    0\n",
      "cape.13       0\n",
      "p59.162.13    0\n",
      "lai_lv.13     0\n",
      "lai_hv.13     0\n",
      "u10n.13       0\n",
      "v10n.13       0\n",
      "sp.13         0\n",
      "stl1.13       0\n",
      "u10.13        0\n",
      "v10.13        0\n",
      "t2m.13        0\n",
      "stl2.13       0\n",
      "stl3.13       0\n",
      "iews.13       0\n",
      "inss.13       0\n",
      "stl4.13       0\n",
      "fsr.13        0\n",
      "flsr.13       0\n",
      "u100.13       0\n",
      "v100.13       0\n",
      "dtype: int64\n"
     ]
    }
   ],
   "source": [
    "# Para poder saber el número de valores faltantes:\n",
    "print(wind_ava.isnull().sum())\n"
   ]
  },
  {
   "cell_type": "markdown",
   "metadata": {},
   "source": [
    "Ahora, comprobaremos, como todos son números decimales, si por casualidad hay algún cero que no tengan sentido en el dataset"
   ]
  },
  {
   "cell_type": "code",
   "execution_count": 33,
   "metadata": {},
   "outputs": [
    {
     "name": "stdout",
     "output_type": "stream",
     "text": [
      "datetime         0\n",
      "energy           0\n",
      "p54.162.13       0\n",
      "p55.162.13       0\n",
      "cape.13       1492\n",
      "p59.162.13       0\n",
      "lai_lv.13        0\n",
      "lai_hv.13        0\n",
      "u10n.13          0\n",
      "v10n.13          0\n",
      "sp.13            0\n",
      "stl1.13          0\n",
      "u10.13           0\n",
      "v10.13           0\n",
      "t2m.13           0\n",
      "stl2.13          0\n",
      "stl3.13          0\n",
      "iews.13          0\n",
      "inss.13          0\n",
      "stl4.13          0\n",
      "fsr.13           0\n",
      "flsr.13          0\n",
      "u100.13          0\n",
      "v100.13          0\n",
      "dtype: int64\n"
     ]
    }
   ],
   "source": [
    "# Ahora, comprobaremos, como todos son números decimales, si por casualidad hay algún cero que no tengan sentido en el dataset\n",
    "# Para ello, veremos el número de ceros que hay en cada columna\n",
    "print((wind_ava == 0).sum())"
   ]
  },
  {
   "cell_type": "markdown",
   "metadata": {},
   "source": [
    "Se puede apreciar que en cape.13 hay bastantes valores que son cero pero, como esa variable tiene sentido que sea cero en determinados contextos, como en condiciones atmosféricas estables, se ha decidido mantener así"
   ]
  },
  {
   "cell_type": "markdown",
   "metadata": {},
   "source": [
    "#### 3.3 Columnas constantes\n",
    "En este apartado se evaluará qué columnas son constantes para todos sus valores"
   ]
  },
  {
   "cell_type": "code",
   "execution_count": 34,
   "metadata": {},
   "outputs": [
    {
     "name": "stdout",
     "output_type": "stream",
     "text": [
      "[]\n"
     ]
    }
   ],
   "source": [
    "# Encontrar las columnas que tienen un solo valor único (columnas constantes)\n",
    "constant_columns = wind_ava.columns[wind_ava.nunique() <= 1].tolist()\n",
    "print(constant_columns)\n"
   ]
  },
  {
   "cell_type": "markdown",
   "metadata": {},
   "source": [
    "Como se puede apreciar, no existen columnas constantes, por lo que no se va a eliminar nada del dataset"
   ]
  },
  {
   "cell_type": "markdown",
   "metadata": {},
   "source": [
    "#### 3.4 ¿Regresión o clasificación?\n",
    "Directamente conociendo la naturaleza de la variable objetivo, la energía, se puede saber ante qué tipo de problema nos enfrentamos. Como la energía es una variable continua, nos encontramos ante un problema de regresión. \n"
   ]
  },
  {
   "cell_type": "markdown",
   "metadata": {},
   "source": [
    "#### 3.5 Otras consideraciones: outliers\n",
    "Otro apartado del EDA que no se menciona en el enunciado y que creemos que es de vital importancia para realizar un buen análisis exploratorio es evaluar los valores lejanos, o outliers"
   ]
  },
  {
   "cell_type": "markdown",
   "metadata": {},
   "source": [
    "#### 3.5.1 Outliers con Histograma"
   ]
  },
  {
   "cell_type": "markdown",
   "metadata": {},
   "source": [
    "Usaremos varios métodos de representación de los datos para poder observar los valores alejados"
   ]
  },
  {
   "cell_type": "code",
   "execution_count": 35,
   "metadata": {},
   "outputs": [
    {
     "data": {
      "image/png": "[encoded data removed]",
      "text/plain": [
       "<Figure size 432x288 with 1 Axes>"
      ]
     },
     "metadata": {
      "needs_background": "light"
     },
     "output_type": "display_data"
    }
   ],
   "source": [
    "\n",
    "# Quitamos 'datetime' al no ser una columna numérica\n",
    "columna_excluida = 'datetime'\n",
    "plt.hist(wind_ava[wind_ava.columns.difference([columna_excluida])])\n",
    "plt.show()"
   ]
  },
  {
   "cell_type": "markdown",
   "metadata": {},
   "source": [
    "Se puede apreciar que hay ciertos valores que se salen de la norma, aunque se verá más claro realizando los boxplots"
   ]
  },
  {
   "cell_type": "markdown",
   "metadata": {},
   "source": [
    "##### 3.5.2 Outliers con Boxplot\n",
    "Para poder evaluar atributo a atributo, se procederá a hacer un boxplot de los 21 atributos (menos datetime, al no ser numérico y no tener outliers al ser un registro de las mediciones diarias)"
   ]
  },
  {
   "cell_type": "code",
   "execution_count": 36,
   "metadata": {},
   "outputs": [
    {
     "data": {
      "image/png": "[encoded data removed]",
      "text/plain": [
       "<Figure size 432x288 with 1 Axes>"
      ]
     },
     "metadata": {
      "needs_background": "light"
     },
     "output_type": "display_data"
    },
    {
     "data": {
      "image/png": "[encoded data removed]",
      "text/plain": [
       "<Figure size 432x288 with 1 Axes>"
      ]
     },
     "metadata": {
      "needs_background": "light"
     },
     "output_type": "display_data"
    },
    {
     "data": {
      "image/png": "[encoded data removed]",
      "text/plain": [
       "<Figure size 432x288 with 1 Axes>"
      ]
     },
     "metadata": {
      "needs_background": "light"
     },
     "output_type": "display_data"
    },
    {
     "data": {
      "image/png": "[encoded data removed]",
      "text/plain": [
       "<Figure size 432x288 with 1 Axes>"
      ]
     },
     "metadata": {
      "needs_background": "light"
     },
     "output_type": "display_data"
    },
    {
     "data": {
      "image/png": "[encoded data removed]",
      "text/plain": [
       "<Figure size 432x288 with 1 Axes>"
      ]
     },
     "metadata": {
      "needs_background": "light"
     },
     "output_type": "display_data"
    },
    {
     "data": {
      "image/png": "[encoded data removed]",
      "text/plain": [
       "<Figure size 432x288 with 1 Axes>"
      ]
     },
     "metadata": {
      "needs_background": "light"
     },
     "output_type": "display_data"
    },
    {
     "data": {
      "image/png": "[encoded data removed]",
      "text/plain": [
       "<Figure size 432x288 with 1 Axes>"
      ]
     },
     "metadata": {
      "needs_background": "light"
     },
     "output_type": "display_data"
    },
    {
     "data": {
      "image/png": "[encoded data removed]",
      "text/plain": [
       "<Figure size 432x288 with 1 Axes>"
      ]
     },
     "metadata": {
      "needs_background": "light"
     },
     "output_type": "display_data"
    },
    {
     "data": {
      "image/png": "[encoded data removed]",
      "text/plain": [
       "<Figure size 432x288 with 1 Axes>"
      ]
     },
     "metadata": {
      "needs_background": "light"
     },
     "output_type": "display_data"
    },
    {
     "data": {
      "image/png": "[encoded data removed]",
      "text/plain": [
       "<Figure size 432x288 with 1 Axes>"
      ]
     },
     "metadata": {
      "needs_background": "light"
     },
     "output_type": "display_data"
    },
    {
     "data": {
      "image/png": "[encoded data removed]",
      "text/plain": [
       "<Figure size 432x288 with 1 Axes>"
      ]
     },
     "metadata": {
      "needs_background": "light"
     },
     "output_type": "display_data"
    },
    {
     "data": {
      "image/png": "[encoded data removed]",
      "text/plain": [
       "<Figure size 432x288 with 1 Axes>"
      ]
     },
     "metadata": {
      "needs_background": "light"
     },
     "output_type": "display_data"
    },
    {
     "data": {
      "image/png": "[encoded data removed]",
      "text/plain": [
       "<Figure size 432x288 with 1 Axes>"
      ]
     },
     "metadata": {
      "needs_background": "light"
     },
     "output_type": "display_data"
    },
    {
     "data": {
      "image/png": "[encoded data removed]",
      "text/plain": [
       "<Figure size 432x288 with 1 Axes>"
      ]
     },
     "metadata": {
      "needs_background": "light"
     },
     "output_type": "display_data"
    },
    {
     "data": {
      "image/png": "[encoded data removed]",
      "text/plain": [
       "<Figure size 432x288 with 1 Axes>"
      ]
     },
     "metadata": {
      "needs_background": "light"
     },
     "output_type": "display_data"
    },
    {
     "data": {
      "image/png": "[encoded data removed]",
      "text/plain": [
       "<Figure size 432x288 with 1 Axes>"
      ]
     },
     "metadata": {
      "needs_background": "light"
     },
     "output_type": "display_data"
    },
    {
     "data": {
      "image/png": "[encoded data removed]",
      "text/plain": [
       "<Figure size 432x288 with 1 Axes>"
      ]
     },
     "metadata": {
      "needs_background": "light"
     },
     "output_type": "display_data"
    },
    {
     "data": {
      "image/png": "[encoded data removed]",
      "text/plain": [
       "<Figure size 432x288 with 1 Axes>"
      ]
     },
     "metadata": {
      "needs_background": "light"
     },
     "output_type": "display_data"
    },
    {
     "data": {
      "image/png": "[encoded data removed]",
      "text/plain": [
       "<Figure size 432x288 with 1 Axes>"
      ]
     },
     "metadata": {
      "needs_background": "light"
     },
     "output_type": "display_data"
    },
    {
     "data": {
      "image/png": "[encoded data removed]",
      "text/plain": [
       "<Figure size 432x288 with 1 Axes>"
      ]
     },
     "metadata": {
      "needs_background": "light"
     },
     "output_type": "display_data"
    },
    {
     "data": {
      "image/png": "[encoded data removed]",
      "text/plain": [
       "<Figure size 432x288 with 1 Axes>"
      ]
     },
     "metadata": {
      "needs_background": "light"
     },
     "output_type": "display_data"
    },
    {
     "data": {
      "image/png": "[encoded data removed]",
      "text/plain": [
       "<Figure size 432x288 with 1 Axes>"
      ]
     },
     "metadata": {
      "needs_background": "light"
     },
     "output_type": "display_data"
    },
    {
     "data": {
      "image/png": "[encoded data removed]",
      "text/plain": [
       "<Figure size 432x288 with 1 Axes>"
      ]
     },
     "metadata": {
      "needs_background": "light"
     },
     "output_type": "display_data"
    }
   ],
   "source": [
    "# Boxplot para cada atributo y sacamos los outliers de cada uno\n",
    "outliers = []\n",
    "for attribute in wind_ava.columns.difference([columna_excluida]):\n",
    "    plt.boxplot(wind_ava[attribute])\n",
    "    plt.title(attribute)\n",
    "    plt.show()\n",
    "    Q1 = wind_ava[attribute].quantile(0.25)\n",
    "    Q3 = wind_ava[attribute].quantile(0.75)\n",
    "    IQR = Q3 - Q1\n",
    "    lower_bound = Q1 - 1.5 * IQR\n",
    "    upper_bound = Q3 + 1.5 * IQR\n",
    "    outliers.append(wind_ava[(wind_ava[attribute] < lower_bound) | (wind_ava[attribute] > upper_bound)].index)"
   ]
  },
  {
   "cell_type": "markdown",
   "metadata": {},
   "source": [
    "Como muestran los resultados, hay ciertos atributos que poseen bastantes outliers, otros que poseen algunos y hay otros atributos en los que es inexistente. Hace falta determinar si esos son ruido, para ser eliminados en futuros modelos para mejorar la predicción, o si son datos realmente significativos para el dataset. Al ser variables meteorológicas, cabe la posibilidad de que haya cierto fallo en la medición, pero al ser la metereología de una región algo tan cambiante, se cree que esa información debe prevalecer en el dataset, a pesar de poseer outliers"
   ]
  },
  {
   "cell_type": "markdown",
   "metadata": {},
   "source": [
    "### 4. Evaluación inner y outer"
   ]
  },
  {
   "cell_type": "markdown",
   "metadata": {},
   "source": [
    "En este apartado se va a describir el proceso seguido para realizar tanto la evaluación inner como la outer:"
   ]
  },
  {
   "cell_type": "markdown",
   "metadata": {},
   "source": [
    "Se ha decidido dividir el dataset en **train** y **test** de la siguiente forma, siguiendo el criterio, no exactamente, de *2/3 para train* y *1/3* *para* *test*:\n",
    "\n",
    "* *train:* 2005 al 2007 (**60%**)\n",
    "* *test:* 2008 y 2009 (**40%**)\n",
    "\n",
    "No se ha decidido añadir aleatoriedad a la selección de instancias a las particiones *train* y *test* ya que hay dependencia temporal en los datos. Es decir, no se pueden mezclar datos del 2005 con datos del 2009 ya que podrían afectar al aprendizaje del modelo. \n",
    "\n",
    "No se ha decidido seguir al 100% *2/3 para train* y *1/3* *para test* al querer dividir las particiones por años exactos.\n",
    "\n",
    "\n",
    "\n",
    "Por otro lado, dentro del *train*, se va a realizar un **ajuste de hiperparámetros** para la evaluacion inner, dividiendo *train*, siguiendo TimeSeriesSplit, de la siguiente forma:\n",
    "\n",
    "* **Prueba #1**:\n",
    "  * *train_train:* 2005\n",
    "  * *train_validation: 2006*\n",
    "* **Prueba #2:**\n",
    "  * *train_train:* 2005 y 2006\n",
    "  * *train_validation:* 2007\n",
    "\n",
    "Se ha decidido usar TimeSeriesSplit para dividir *train* por la misma razón por la que no añadiamos aleatoriedad a la selección de instancias. Al trabajar con datos con dependencia temporal, es mejor usar TimeSeriesSplit\n",
    "\n",
    "Los hiperparámetros que se van a ajustar dependen del modelo a usar y se comentarán en el punto 4\n",
    "\n",
    "\n",
    "Para la evaluación outer, se evaluará el rendimiento usando la partición *train* inicial y la partición *test* de 2008 y 2009, es decir, el dataset completo, usando los mejores hiperparámetros encontrados en la evaluación inner. \n",
    "\n",
    "\n",
    "Las **métricas** que se van a usar para evaluar el rendimiento a futuro van a ser:\n",
    "\n",
    "* **RMSE :** muy recomendado como métrica de error\n",
    "* **Tiempo de ejecución :** es una variable relevante para poder ofrecer un modelo que pueda ejecutar en un tiempo razonable. También, se usará como medio de desempate si hay modelos que tienen errores muy parecidos.\n",
    "\n",
    "Aunque siempre se priorizará el modelo que tenga menos error, habrá una excepción. Si el tiempo de ejecución es infinitamente superior en uno de los dos modelos a comparar y poseen errores muy parecidos, se elegirá el que tenga menor tiempo de ejecución.\n"
   ]
  },
  {
   "cell_type": "code",
   "execution_count": 37,
   "metadata": {},
   "outputs": [],
   "source": [
    "# ----  Selección inicial de X e Y  ----\n",
    "# X -> Todas las columnas menos 'datetime' y 'energy'\n",
    "# Y -> 'energy'\n",
    "X = wind_ava.loc[:,columnas_a_mantener[2:]]\n",
    "Y = wind_ava.energy\n",
    "\n",
    "# ----  División del dataset en Train-Test:  ----\n",
    "# Dividimos el dataset en entrenamiento del 2005 al 2007 y test del 2008 al 2009\n",
    "X_train = X.loc[wind_ava.datetime < '2008-01-01']\n",
    "X_test = X.loc[wind_ava.datetime >= '2008-01-01']\n",
    "Y_train = Y.loc[wind_ava.datetime < '2008-01-01']\n",
    "Y_test = Y.loc[wind_ava.datetime >= '2008-01-01']\n"
   ]
  },
  {
   "cell_type": "markdown",
   "metadata": {},
   "source": [
    "### 5. Elección del mejor escalador\n",
    "Para elegir el mejor escalador, se hará varias pruebas usando KNN por omisión con 3-Fold cross validation, una por cada scaler:\n",
    "MinMax, Standard y Robust"
   ]
  },
  {
   "cell_type": "code",
   "execution_count": 38,
   "metadata": {},
   "outputs": [
    {
     "name": "stdout",
     "output_type": "stream",
     "text": [
      "KNN con StandardScaler: 406.6239774017178\n",
      "KNN con MinMaxScaler: 417.2689336852763\n",
      "KNN con RobustScaler: 412.4465910589574\n"
     ]
    }
   ],
   "source": [
    "\"\"\"\n",
    "Si el método a usar posee random_state, usar 100451258 (mi NIA)\n",
    "\"\"\"\n",
    "\n",
    "# ----  Evaluación inner con 3-Fold CV  ----\n",
    "inner = KFold(n_splits=3, shuffle=True, random_state=100451258)\n",
    "# Diccionario para almacenar los resultados de la evaluación inner  ----\n",
    "inner_scores = {}\n",
    "\n",
    "# ----  1. KNN con StandardScaler  ----\n",
    "# Creamos el pipeline\n",
    "pipeline_std = Pipeline([('scaler', StandardScaler()), ('knn', KNeighborsRegressor())])\n",
    "# Evaluación inner\n",
    "scores_std = cross_val_score(pipeline_std, X_train, Y_train, cv=inner, scoring='neg_root_mean_squared_error')\n",
    "inner_scores['KNN con StandardScaler'] = -scores_std.mean()\n",
    "\n",
    "# ----  2. KNN con MinMaxScaler  ----\n",
    "# Creamos el pipeline\n",
    "pipeline_mm = Pipeline([('scaler', MinMaxScaler()), ('knn', KNeighborsRegressor())])\n",
    "# Evaluación inner\n",
    "scores_mm = cross_val_score(pipeline_mm, X_train, Y_train, cv=inner, scoring='neg_root_mean_squared_error')\n",
    "inner_scores['KNN con MinMaxScaler'] = -scores_mm.mean()\n",
    "\n",
    "# ----  3. KNN con RobustScaler  ----\n",
    "# Creamos el pipeline\n",
    "pipeline_rb = Pipeline([('scaler', RobustScaler()), ('knn', KNeighborsRegressor())])\n",
    "# Evaluación inner\n",
    "scores_rb = cross_val_score(pipeline_rb, X_train, Y_train, cv=inner, scoring='neg_root_mean_squared_error')\n",
    "inner_scores['KNN con RobustScaler'] = -scores_rb.mean()\n",
    "\n",
    "# ----  RESULTADOS FINALES  ----\n",
    "for name, score in inner_scores.items():\n",
    "    print(f\"{name}: {score}\")\n",
    "\n",
    "\n"
   ]
  },
  {
   "cell_type": "markdown",
   "metadata": {},
   "source": [
    "Como se puede apreciar, el mejor scaler y el que usaremos de ahora en adelante es StandardScaler"
   ]
  },
  {
   "cell_type": "markdown",
   "metadata": {},
   "source": [
    "### 6. Evaluación de los modelos"
   ]
  },
  {
   "cell_type": "markdown",
   "metadata": {},
   "source": [
    "### Notas a cerca de cómo evaluar modelos"
   ]
  },
  {
   "cell_type": "code",
   "execution_count": 39,
   "metadata": {},
   "outputs": [
    {
     "name": "stdout",
     "output_type": "stream",
     "text": [
      "RMSE:  443.1564635736528\n",
      "Mejores hiperparámetros:  {'max_depth': 5, 'min_samples_split': 14}\n"
     ]
    }
   ],
   "source": [
    "# Usaremos árboles de decisión con HPO y time series split\n",
    "# inner: time series split 2005-2007 -> 3 splits\n",
    "\n",
    "# 1. Definición del proceso de HPO \n",
    "# Seleccion posibles hiperparámetros para un árbol de decisión\n",
    "param_grid = {\n",
    "    'max_depth': range(2,16),\n",
    "    'min_samples_split': range(2,16)\n",
    "}\n",
    "\n",
    "# evaluación inner con time series split\n",
    "inner = TimeSeriesSplit(n_splits=3)\n",
    "\n",
    "# Definición del proceso de HPO con GridSearchCV\n",
    "# GridSearchCV es un método de búsqueda de hiperparámetros que evalúa todas las combinaciones posibles\n",
    "# Si fuesen muchas pruebas de hiperparámetros, se puede usar RandomizedSearchCV, que solo coge algunas aleatorias, aunque funciona muy bien\n",
    "regr = DecisionTreeRegressor(random_state=100451258)\n",
    "gs_regr = GridSearchCV(regr, \n",
    "                       param_grid, \n",
    "                       cv=inner, \n",
    "                       scoring='neg_mean_squared_error', \n",
    "                       n_jobs=-1,\n",
    "                       verbose=0)\n",
    "\n",
    "# 2. Entrenamiento con la partición de entrenamiento\n",
    "gs_regr.fit(X_train, Y_train)\n",
    "# ahora gs_regr es un modelo\n",
    "\n",
    "# 3. Evaluación outer del modelo con test -> estimacion del rendimiento futuro\n",
    "Y_pred = gs_regr.predict(X_test)\n",
    "mse = metrics.mean_squared_error(Y_test, Y_pred)\n",
    "print(\"RMSE: \", np.sqrt(mse))\n",
    "\n",
    "# 4. Obtener el modelo final\n",
    "best_hyperparams = gs_regr.best_params_\n",
    "print(\"Mejores hiperparámetros: \", best_hyperparams)\n",
    "# Volvemos a hacer cross_validation pero con todos los datos\n",
    "regr_final = gs_regr.fit(X, Y)\n",
    "# Si hacemos esto, estaríamos pillando los hiperparámetros calculados en el inner evaluation\n",
    "# y no los que se han calculado en el outer evaluation\n",
    "# Se puede hacer, pero es más recomendable obtener el modelo final con un nuevo cross-validation\n",
    "# ---> regr_final = DecisionTreeRegressor(**best_hyperparams)\n",
    "# ---> regr_final.fit(X, Y)\n",
    "\n"
   ]
  },
  {
   "cell_type": "code",
   "execution_count": 56,
   "metadata": {},
   "outputs": [
    {
     "name": "stdout",
     "output_type": "stream",
     "text": [
      "Fitting 3 folds for each of 10 candidates, totalling 30 fits\n",
      "{'knn__weights': 'distance', 'knn__p': 1, 'knn__n_neighbors': 12, 'knn__leaf_size': 39}\n",
      "149644.26058843787\n"
     ]
    },
    {
     "data": {
      "text/plain": [
       "Pipeline(steps=[('scaler', StandardScaler()),\n",
       "                ('knn',\n",
       "                 KNeighborsRegressor(leaf_size=39, n_neighbors=12, p=1,\n",
       "                                     weights='distance'))])"
      ]
     },
     "execution_count": 56,
     "metadata": {},
     "output_type": "execute_result"
    }
   ],
   "source": [
    "param_grid = {'knn__n_neighbors': list(range(2,16)),\n",
    "              'knn__p': [1,2],\n",
    "              'knn__weights': ['uniform', 'distance'],\n",
    "              'knn__leaf_size': list(range(1, 50))\n",
    "              }\n",
    "\n",
    "inner = KFold(n_splits=3, shuffle=True, random_state=42)\n",
    "\n",
    "# Create a pipeline that scales the data and trains the model\n",
    "\n",
    "pipe = Pipeline([\n",
    "    ('scaler', StandardScaler()),\n",
    "    ('knn', KNeighborsRegressor())]\n",
    ")\n",
    "\n",
    "# Definition of a 2-step process that self-adjusts 2 hyperpars\n",
    "regr = RandomizedSearchCV(pipe,\n",
    "                   param_grid,\n",
    "                   scoring='neg_mean_squared_error',\n",
    "                   cv=inner,\n",
    "                   n_jobs=1, verbose=1)\n",
    "\n",
    "np.random.seed(42)\n",
    "\n",
    "regr.fit(X=X_train, y=Y_train)\n",
    "\n",
    "params_a_usar = regr.best_params_\n",
    "\n",
    "print(params_a_usar)\n",
    "print(-regr.best_score_)\n",
    "\n",
    "modelo_final = regr.best_estimator_\n",
    "\n",
    "modelo_final.fit(X=X, y=Y)\n",
    "\n"
   ]
  },
  {
   "cell_type": "markdown",
   "metadata": {},
   "source": [
    "#### 6.1 Almacenamiento del modelo\n",
    "    \n",
    "Ahora almacenamos el modelo obtenido en un archivo modelo_final.plk"
   ]
  },
  {
   "cell_type": "code",
   "execution_count": 57,
   "metadata": {},
   "outputs": [
    {
     "data": {
      "text/plain": [
       "['./modelo_final.plk']"
      ]
     },
     "execution_count": 57,
     "metadata": {},
     "output_type": "execute_result"
    }
   ],
   "source": [
    "local_path = './modelo_final.plk'\n",
    "dump(modelo_final, local_path)"
   ]
  }
 ],
 "metadata": {
  "kernelspec": {
   "display_name": "Python 3",
   "language": "python",
   "name": "python3"
  },
  "language_info": {
   "codemirror_mode": {
    "name": "ipython",
    "version": 3
   },
   "file_extension": ".py",
   "mimetype": "text/x-python",
   "name": "python",
   "nbconvert_exporter": "python",
   "pygments_lexer": "ipython3",
   "version": "3.6.8"
  }
 },
 "nbformat": 4,
 "nbformat_minor": 2
}
